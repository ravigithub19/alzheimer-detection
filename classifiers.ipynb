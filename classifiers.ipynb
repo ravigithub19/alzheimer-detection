{
  "cells": [
    {
      "cell_type": "code",
      "execution_count": null,
      "metadata": {
        "id": "QSxGWvR08OAn"
      },
      "outputs": [],
      "source": [
        "#Importing libraries\n",
        "import pandas as pd\n",
        "import seaborn as sns\n",
        "import numpy as np\n",
        "import matplotlib.pyplot as plt"
      ]
    },
    {
      "cell_type": "code",
      "execution_count": null,
      "metadata": {
        "colab": {
          "base_uri": "https://localhost:8080/"
        },
        "id": "QGQFsT-s8duD",
        "outputId": "ab25488c-b4a4-438f-98e9-660b68bf6304"
      },
      "outputs": [
        {
          "data": {
            "text/plain": [
              "<bound method DataFrame.info of        Subject  Gender MMSE       Age  CDR Memory                Result\n",
              "0     OAS30124  female   16  79.14579  1.0      1         'AD Dementia'\n",
              "1     OAS30124  female   21  79.14579  0.5    0.5         'AD Dementia'\n",
              "2     OAS31129  female   20  68.07666  1.0      1         'AD Dementia'\n",
              "3     OAS31129  female   28  68.07666  1.0      1         'AD Dementia'\n",
              "4     OAS31129  female   29  68.07666  0.5    0.5         'AD Dementia'\n",
              "...        ...     ...  ...       ...  ...    ...                   ...\n",
              "1224  OAS30397    male   22  68.90075  1.0      1         'AD Dementia'\n",
              "1225  OAS30397    male   16  68.90075  1.0      1         'AD Dementia'\n",
              "1226  OAS30886    male   28  67.77276  0.5    0.5         'AD Dementia'\n",
              "1227  OAS30954  female   17  80.06844  1.0      1         'AD Dementia'\n",
              "1228  OAS30016    male   26  76.96646  0.5      1  'uncertain dementia'\n",
              "\n",
              "[1229 rows x 7 columns]>"
            ]
          },
          "execution_count": 2,
          "metadata": {},
          "output_type": "execute_result"
        }
      ],
      "source": [
        "#Read the CSV File Using Pandas read_csv function\n",
        "df = pd.read_csv('clinical-data-for Alzheimers.csv')\n",
        "\n",
        "#print the concise summary of the dataset\n",
        "df.info"
      ]
    },
    {
      "cell_type": "code",
      "execution_count": null,
      "metadata": {
        "colab": {
          "base_uri": "https://localhost:8080/",
          "height": 380
        },
        "id": "Xgboei3B8dxs",
        "outputId": "0d491392-be67-4581-8dbc-157adbf10198"
      },
      "outputs": [
        {
          "name": "stdout",
          "output_type": "stream",
          "text": [
            "Total Rows and Columns (Rows,Columns) :  (1229, 7)\n"
          ]
        },
        {
          "data": {
            "text/html": [
              "\n",
              "  <div id=\"df-bea30f87-8644-4280-84dd-4aec64388296\">\n",
              "    <div class=\"colab-df-container\">\n",
              "      <div>\n",
              "<style scoped>\n",
              "    .dataframe tbody tr th:only-of-type {\n",
              "        vertical-align: middle;\n",
              "    }\n",
              "\n",
              "    .dataframe tbody tr th {\n",
              "        vertical-align: top;\n",
              "    }\n",
              "\n",
              "    .dataframe thead th {\n",
              "        text-align: right;\n",
              "    }\n",
              "</style>\n",
              "<table border=\"1\" class=\"dataframe\">\n",
              "  <thead>\n",
              "    <tr style=\"text-align: right;\">\n",
              "      <th></th>\n",
              "      <th>Subject</th>\n",
              "      <th>Gender</th>\n",
              "      <th>MMSE</th>\n",
              "      <th>Age</th>\n",
              "      <th>CDR</th>\n",
              "      <th>Memory</th>\n",
              "      <th>Result</th>\n",
              "    </tr>\n",
              "  </thead>\n",
              "  <tbody>\n",
              "    <tr>\n",
              "      <th>0</th>\n",
              "      <td>OAS30124</td>\n",
              "      <td>female</td>\n",
              "      <td>16</td>\n",
              "      <td>79.145790</td>\n",
              "      <td>1.0</td>\n",
              "      <td>1</td>\n",
              "      <td>'AD Dementia'</td>\n",
              "    </tr>\n",
              "    <tr>\n",
              "      <th>1</th>\n",
              "      <td>OAS30124</td>\n",
              "      <td>female</td>\n",
              "      <td>21</td>\n",
              "      <td>79.145790</td>\n",
              "      <td>0.5</td>\n",
              "      <td>0.5</td>\n",
              "      <td>'AD Dementia'</td>\n",
              "    </tr>\n",
              "    <tr>\n",
              "      <th>2</th>\n",
              "      <td>OAS31129</td>\n",
              "      <td>female</td>\n",
              "      <td>20</td>\n",
              "      <td>68.076660</td>\n",
              "      <td>1.0</td>\n",
              "      <td>1</td>\n",
              "      <td>'AD Dementia'</td>\n",
              "    </tr>\n",
              "    <tr>\n",
              "      <th>3</th>\n",
              "      <td>OAS31129</td>\n",
              "      <td>female</td>\n",
              "      <td>28</td>\n",
              "      <td>68.076660</td>\n",
              "      <td>1.0</td>\n",
              "      <td>1</td>\n",
              "      <td>'AD Dementia'</td>\n",
              "    </tr>\n",
              "    <tr>\n",
              "      <th>4</th>\n",
              "      <td>OAS31129</td>\n",
              "      <td>female</td>\n",
              "      <td>29</td>\n",
              "      <td>68.076660</td>\n",
              "      <td>0.5</td>\n",
              "      <td>0.5</td>\n",
              "      <td>'AD Dementia'</td>\n",
              "    </tr>\n",
              "    <tr>\n",
              "      <th>5</th>\n",
              "      <td>OAS31129</td>\n",
              "      <td>female</td>\n",
              "      <td>29</td>\n",
              "      <td>68.076660</td>\n",
              "      <td>0.5</td>\n",
              "      <td>1</td>\n",
              "      <td>'AD Dementia'</td>\n",
              "    </tr>\n",
              "    <tr>\n",
              "      <th>6</th>\n",
              "      <td>OAS30865</td>\n",
              "      <td>female</td>\n",
              "      <td>24</td>\n",
              "      <td>73.697464</td>\n",
              "      <td>2.0</td>\n",
              "      <td>2</td>\n",
              "      <td>'AD Dementia'</td>\n",
              "    </tr>\n",
              "    <tr>\n",
              "      <th>7</th>\n",
              "      <td>OAS30865</td>\n",
              "      <td>female</td>\n",
              "      <td>28</td>\n",
              "      <td>73.697464</td>\n",
              "      <td>0.5</td>\n",
              "      <td>1</td>\n",
              "      <td>'AD Dementia'</td>\n",
              "    </tr>\n",
              "    <tr>\n",
              "      <th>8</th>\n",
              "      <td>OAS31003</td>\n",
              "      <td>male</td>\n",
              "      <td>30</td>\n",
              "      <td>63.926080</td>\n",
              "      <td>0.5</td>\n",
              "      <td>0.5</td>\n",
              "      <td>'AD Dementia'</td>\n",
              "    </tr>\n",
              "    <tr>\n",
              "      <th>9</th>\n",
              "      <td>OAS31003</td>\n",
              "      <td>male</td>\n",
              "      <td>30</td>\n",
              "      <td>63.926080</td>\n",
              "      <td>1.0</td>\n",
              "      <td>0.5</td>\n",
              "      <td>'AD Dementia'</td>\n",
              "    </tr>\n",
              "  </tbody>\n",
              "</table>\n",
              "</div>\n",
              "      <button class=\"colab-df-convert\" onclick=\"convertToInteractive('df-bea30f87-8644-4280-84dd-4aec64388296')\"\n",
              "              title=\"Convert this dataframe to an interactive table.\"\n",
              "              style=\"display:none;\">\n",
              "        \n",
              "  <svg xmlns=\"http://www.w3.org/2000/svg\" height=\"24px\"viewBox=\"0 0 24 24\"\n",
              "       width=\"24px\">\n",
              "    <path d=\"M0 0h24v24H0V0z\" fill=\"none\"/>\n",
              "    <path d=\"M18.56 5.44l.94 2.06.94-2.06 2.06-.94-2.06-.94-.94-2.06-.94 2.06-2.06.94zm-11 1L8.5 8.5l.94-2.06 2.06-.94-2.06-.94L8.5 2.5l-.94 2.06-2.06.94zm10 10l.94 2.06.94-2.06 2.06-.94-2.06-.94-.94-2.06-.94 2.06-2.06.94z\"/><path d=\"M17.41 7.96l-1.37-1.37c-.4-.4-.92-.59-1.43-.59-.52 0-1.04.2-1.43.59L10.3 9.45l-7.72 7.72c-.78.78-.78 2.05 0 2.83L4 21.41c.39.39.9.59 1.41.59.51 0 1.02-.2 1.41-.59l7.78-7.78 2.81-2.81c.8-.78.8-2.07 0-2.86zM5.41 20L4 18.59l7.72-7.72 1.47 1.35L5.41 20z\"/>\n",
              "  </svg>\n",
              "      </button>\n",
              "      \n",
              "  <style>\n",
              "    .colab-df-container {\n",
              "      display:flex;\n",
              "      flex-wrap:wrap;\n",
              "      gap: 12px;\n",
              "    }\n",
              "\n",
              "    .colab-df-convert {\n",
              "      background-color: #E8F0FE;\n",
              "      border: none;\n",
              "      border-radius: 50%;\n",
              "      cursor: pointer;\n",
              "      display: none;\n",
              "      fill: #1967D2;\n",
              "      height: 32px;\n",
              "      padding: 0 0 0 0;\n",
              "      width: 32px;\n",
              "    }\n",
              "\n",
              "    .colab-df-convert:hover {\n",
              "      background-color: #E2EBFA;\n",
              "      box-shadow: 0px 1px 2px rgba(60, 64, 67, 0.3), 0px 1px 3px 1px rgba(60, 64, 67, 0.15);\n",
              "      fill: #174EA6;\n",
              "    }\n",
              "\n",
              "    [theme=dark] .colab-df-convert {\n",
              "      background-color: #3B4455;\n",
              "      fill: #D2E3FC;\n",
              "    }\n",
              "\n",
              "    [theme=dark] .colab-df-convert:hover {\n",
              "      background-color: #434B5C;\n",
              "      box-shadow: 0px 1px 3px 1px rgba(0, 0, 0, 0.15);\n",
              "      filter: drop-shadow(0px 1px 2px rgba(0, 0, 0, 0.3));\n",
              "      fill: #FFFFFF;\n",
              "    }\n",
              "  </style>\n",
              "\n",
              "      <script>\n",
              "        const buttonEl =\n",
              "          document.querySelector('#df-bea30f87-8644-4280-84dd-4aec64388296 button.colab-df-convert');\n",
              "        buttonEl.style.display =\n",
              "          google.colab.kernel.accessAllowed ? 'block' : 'none';\n",
              "\n",
              "        async function convertToInteractive(key) {\n",
              "          const element = document.querySelector('#df-bea30f87-8644-4280-84dd-4aec64388296');\n",
              "          const dataTable =\n",
              "            await google.colab.kernel.invokeFunction('convertToInteractive',\n",
              "                                                     [key], {});\n",
              "          if (!dataTable) return;\n",
              "\n",
              "          const docLinkHtml = 'Like what you see? Visit the ' +\n",
              "            '<a target=\"_blank\" href=https://colab.research.google.com/notebooks/data_table.ipynb>data table notebook</a>'\n",
              "            + ' to learn more about interactive tables.';\n",
              "          element.innerHTML = '';\n",
              "          dataTable['output_type'] = 'display_data';\n",
              "          await google.colab.output.renderOutput(dataTable, element);\n",
              "          const docLink = document.createElement('div');\n",
              "          docLink.innerHTML = docLinkHtml;\n",
              "          element.appendChild(docLink);\n",
              "        }\n",
              "      </script>\n",
              "    </div>\n",
              "  </div>\n",
              "  "
            ],
            "text/plain": [
              "    Subject  Gender MMSE        Age  CDR Memory         Result\n",
              "0  OAS30124  female   16  79.145790  1.0      1  'AD Dementia'\n",
              "1  OAS30124  female   21  79.145790  0.5    0.5  'AD Dementia'\n",
              "2  OAS31129  female   20  68.076660  1.0      1  'AD Dementia'\n",
              "3  OAS31129  female   28  68.076660  1.0      1  'AD Dementia'\n",
              "4  OAS31129  female   29  68.076660  0.5    0.5  'AD Dementia'\n",
              "5  OAS31129  female   29  68.076660  0.5      1  'AD Dementia'\n",
              "6  OAS30865  female   24  73.697464  2.0      2  'AD Dementia'\n",
              "7  OAS30865  female   28  73.697464  0.5      1  'AD Dementia'\n",
              "8  OAS31003    male   30  63.926080  0.5    0.5  'AD Dementia'\n",
              "9  OAS31003    male   30  63.926080  1.0    0.5  'AD Dementia'"
            ]
          },
          "execution_count": 3,
          "metadata": {},
          "output_type": "execute_result"
        }
      ],
      "source": [
        "print(\"Total Rows and Columns (Rows,Columns) : \", df.shape)\n",
        "\n",
        "#print first five rows of the dataset\n",
        "df.head(10)"
      ]
    },
    {
      "cell_type": "code",
      "execution_count": null,
      "metadata": {
        "colab": {
          "base_uri": "https://localhost:8080/",
          "height": 300
        },
        "id": "SVLxJiH18d0-",
        "outputId": "5aa3da74-7099-48fc-8791-11086d8a81dc"
      },
      "outputs": [
        {
          "data": {
            "text/html": [
              "\n",
              "  <div id=\"df-6f39561d-0738-4ef6-b1f4-3118c5e0f832\">\n",
              "    <div class=\"colab-df-container\">\n",
              "      <div>\n",
              "<style scoped>\n",
              "    .dataframe tbody tr th:only-of-type {\n",
              "        vertical-align: middle;\n",
              "    }\n",
              "\n",
              "    .dataframe tbody tr th {\n",
              "        vertical-align: top;\n",
              "    }\n",
              "\n",
              "    .dataframe thead th {\n",
              "        text-align: right;\n",
              "    }\n",
              "</style>\n",
              "<table border=\"1\" class=\"dataframe\">\n",
              "  <thead>\n",
              "    <tr style=\"text-align: right;\">\n",
              "      <th></th>\n",
              "      <th>Age</th>\n",
              "      <th>CDR</th>\n",
              "    </tr>\n",
              "  </thead>\n",
              "  <tbody>\n",
              "    <tr>\n",
              "      <th>count</th>\n",
              "      <td>1229.000000</td>\n",
              "      <td>1229.000000</td>\n",
              "    </tr>\n",
              "    <tr>\n",
              "      <th>mean</th>\n",
              "      <td>72.900069</td>\n",
              "      <td>0.702604</td>\n",
              "    </tr>\n",
              "    <tr>\n",
              "      <th>std</th>\n",
              "      <td>7.739166</td>\n",
              "      <td>0.415548</td>\n",
              "    </tr>\n",
              "    <tr>\n",
              "      <th>min</th>\n",
              "      <td>47.605750</td>\n",
              "      <td>0.000000</td>\n",
              "    </tr>\n",
              "    <tr>\n",
              "      <th>25%</th>\n",
              "      <td>67.550995</td>\n",
              "      <td>0.500000</td>\n",
              "    </tr>\n",
              "    <tr>\n",
              "      <th>50%</th>\n",
              "      <td>73.013010</td>\n",
              "      <td>0.500000</td>\n",
              "    </tr>\n",
              "    <tr>\n",
              "      <th>75%</th>\n",
              "      <td>78.650240</td>\n",
              "      <td>1.000000</td>\n",
              "    </tr>\n",
              "    <tr>\n",
              "      <th>max</th>\n",
              "      <td>95.567420</td>\n",
              "      <td>3.000000</td>\n",
              "    </tr>\n",
              "  </tbody>\n",
              "</table>\n",
              "</div>\n",
              "      <button class=\"colab-df-convert\" onclick=\"convertToInteractive('df-6f39561d-0738-4ef6-b1f4-3118c5e0f832')\"\n",
              "              title=\"Convert this dataframe to an interactive table.\"\n",
              "              style=\"display:none;\">\n",
              "        \n",
              "  <svg xmlns=\"http://www.w3.org/2000/svg\" height=\"24px\"viewBox=\"0 0 24 24\"\n",
              "       width=\"24px\">\n",
              "    <path d=\"M0 0h24v24H0V0z\" fill=\"none\"/>\n",
              "    <path d=\"M18.56 5.44l.94 2.06.94-2.06 2.06-.94-2.06-.94-.94-2.06-.94 2.06-2.06.94zm-11 1L8.5 8.5l.94-2.06 2.06-.94-2.06-.94L8.5 2.5l-.94 2.06-2.06.94zm10 10l.94 2.06.94-2.06 2.06-.94-2.06-.94-.94-2.06-.94 2.06-2.06.94z\"/><path d=\"M17.41 7.96l-1.37-1.37c-.4-.4-.92-.59-1.43-.59-.52 0-1.04.2-1.43.59L10.3 9.45l-7.72 7.72c-.78.78-.78 2.05 0 2.83L4 21.41c.39.39.9.59 1.41.59.51 0 1.02-.2 1.41-.59l7.78-7.78 2.81-2.81c.8-.78.8-2.07 0-2.86zM5.41 20L4 18.59l7.72-7.72 1.47 1.35L5.41 20z\"/>\n",
              "  </svg>\n",
              "      </button>\n",
              "      \n",
              "  <style>\n",
              "    .colab-df-container {\n",
              "      display:flex;\n",
              "      flex-wrap:wrap;\n",
              "      gap: 12px;\n",
              "    }\n",
              "\n",
              "    .colab-df-convert {\n",
              "      background-color: #E8F0FE;\n",
              "      border: none;\n",
              "      border-radius: 50%;\n",
              "      cursor: pointer;\n",
              "      display: none;\n",
              "      fill: #1967D2;\n",
              "      height: 32px;\n",
              "      padding: 0 0 0 0;\n",
              "      width: 32px;\n",
              "    }\n",
              "\n",
              "    .colab-df-convert:hover {\n",
              "      background-color: #E2EBFA;\n",
              "      box-shadow: 0px 1px 2px rgba(60, 64, 67, 0.3), 0px 1px 3px 1px rgba(60, 64, 67, 0.15);\n",
              "      fill: #174EA6;\n",
              "    }\n",
              "\n",
              "    [theme=dark] .colab-df-convert {\n",
              "      background-color: #3B4455;\n",
              "      fill: #D2E3FC;\n",
              "    }\n",
              "\n",
              "    [theme=dark] .colab-df-convert:hover {\n",
              "      background-color: #434B5C;\n",
              "      box-shadow: 0px 1px 3px 1px rgba(0, 0, 0, 0.15);\n",
              "      filter: drop-shadow(0px 1px 2px rgba(0, 0, 0, 0.3));\n",
              "      fill: #FFFFFF;\n",
              "    }\n",
              "  </style>\n",
              "\n",
              "      <script>\n",
              "        const buttonEl =\n",
              "          document.querySelector('#df-6f39561d-0738-4ef6-b1f4-3118c5e0f832 button.colab-df-convert');\n",
              "        buttonEl.style.display =\n",
              "          google.colab.kernel.accessAllowed ? 'block' : 'none';\n",
              "\n",
              "        async function convertToInteractive(key) {\n",
              "          const element = document.querySelector('#df-6f39561d-0738-4ef6-b1f4-3118c5e0f832');\n",
              "          const dataTable =\n",
              "            await google.colab.kernel.invokeFunction('convertToInteractive',\n",
              "                                                     [key], {});\n",
              "          if (!dataTable) return;\n",
              "\n",
              "          const docLinkHtml = 'Like what you see? Visit the ' +\n",
              "            '<a target=\"_blank\" href=https://colab.research.google.com/notebooks/data_table.ipynb>data table notebook</a>'\n",
              "            + ' to learn more about interactive tables.';\n",
              "          element.innerHTML = '';\n",
              "          dataTable['output_type'] = 'display_data';\n",
              "          await google.colab.output.renderOutput(dataTable, element);\n",
              "          const docLink = document.createElement('div');\n",
              "          docLink.innerHTML = docLinkHtml;\n",
              "          element.appendChild(docLink);\n",
              "        }\n",
              "      </script>\n",
              "    </div>\n",
              "  </div>\n",
              "  "
            ],
            "text/plain": [
              "               Age          CDR\n",
              "count  1229.000000  1229.000000\n",
              "mean     72.900069     0.702604\n",
              "std       7.739166     0.415548\n",
              "min      47.605750     0.000000\n",
              "25%      67.550995     0.500000\n",
              "50%      73.013010     0.500000\n",
              "75%      78.650240     1.000000\n",
              "max      95.567420     3.000000"
            ]
          },
          "execution_count": 4,
          "metadata": {},
          "output_type": "execute_result"
        }
      ],
      "source": [
        "#print concise summary of the dataset\n",
        "df.describe()"
      ]
    },
    {
      "cell_type": "code",
      "execution_count": null,
      "metadata": {
        "colab": {
          "base_uri": "https://localhost:8080/"
        },
        "id": "RQ0_D4Mu8d3q",
        "outputId": "bd32acb9-d9c2-4ead-cf49-c1b476decf33"
      },
      "outputs": [
        {
          "data": {
            "text/plain": [
              "Subject    0\n",
              "Gender     0\n",
              "MMSE       0\n",
              "Age        0\n",
              "CDR        0\n",
              "Memory     0\n",
              "Result     0\n",
              "dtype: int64"
            ]
          },
          "execution_count": 6,
          "metadata": {},
          "output_type": "execute_result"
        }
      ],
      "source": [
        "df.isna().sum()"
      ]
    },
    {
      "cell_type": "code",
      "execution_count": null,
      "metadata": {
        "colab": {
          "base_uri": "https://localhost:8080/",
          "height": 296
        },
        "id": "lHdMbiJv8txs",
        "outputId": "91934d72-1e7c-43cf-e437-a9b1b66a7086"
      },
      "outputs": [
        {
          "data": {
            "text/plain": [
              "<matplotlib.axes._subplots.AxesSubplot at 0x7f8900a92a90>"
            ]
          },
          "execution_count": 7,
          "metadata": {},
          "output_type": "execute_result"
        },
        {
          "data": {
            "image/png": "[encoded data removed]",
            "text/plain": [
              "<Figure size 432x288 with 1 Axes>"
            ]
          },
          "metadata": {},
          "output_type": "display_data"
        }
      ],
      "source": [
        "#see how many people have Alzheimer\n",
        "sns.set_style(\"whitegrid\")\n",
        "ex_df= df.loc[df['CDR'] == 3]\n",
        "sns.countplot(x='Result', data = ex_df)"
      ]
    },
    {
      "cell_type": "code",
      "execution_count": null,
      "metadata": {
        "colab": {
          "base_uri": "https://localhost:8080/",
          "height": 296
        },
        "id": "jyXy1dZA8t0D",
        "outputId": "2025b227-904b-4fa4-bf07-131b72d1b4c3"
      },
      "outputs": [
        {
          "data": {
            "text/plain": [
              "<matplotlib.axes._subplots.AxesSubplot at 0x7fdda5a15810>"
            ]
          },
          "execution_count": 8,
          "metadata": {},
          "output_type": "execute_result"
        },
        {
          "data": {
            "image/png": "[encoded data removed]",
            "text/plain": [
              "<Figure size 432x288 with 1 Axes>"
            ]
          },
          "metadata": {},
          "output_type": "display_data"
        }
      ],
      "source": [
        "#see how many people have No Dementia\n",
        "sns.set_style(\"whitegrid\")\n",
        "ex_df= df.loc[df['CDR'] == 0]\n",
        "sns.countplot(x='Result', data = ex_df)"
      ]
    },
    {
      "cell_type": "code",
      "execution_count": null,
      "metadata": {
        "colab": {
          "base_uri": "https://localhost:8080/",
          "height": 242
        },
        "id": "Kq_cpAdN8t5h",
        "outputId": "d6406c86-0fe7-4abc-89e4-26f0eb7f3d99"
      },
      "outputs": [
        {
          "data": {
            "text/plain": [
              "(50.0, 100.0)"
            ]
          },
          "execution_count": 9,
          "metadata": {},
          "output_type": "execute_result"
        },
        {
          "data": {
            "image/png": "[encoded data removed]",
            "text/plain": [
              "<Figure size 788.125x216 with 1 Axes>"
            ]
          },
          "metadata": {},
          "output_type": "display_data"
        }
      ],
      "source": [
        "#Age vs Non-demented and demented\n",
        "facet= sns.FacetGrid(df,hue=\"Result\", aspect=3)\n",
        "facet.map(sns.kdeplot,'Age',shade= True)\n",
        "facet.set(xlim=(0, df['Age'].max()))\n",
        "facet.add_legend()\n",
        "plt.xlim(50,100)"
      ]
    },
    {
      "cell_type": "markdown",
      "metadata": {
        "id": "ytU1qFWhB8M2"
      },
      "source": [
        "\n",
        "###**Implementation of Machine Learning Algorithms**"
      ]
    },
    {
      "cell_type": "code",
      "execution_count": null,
      "metadata": {
        "id": "8OfBKUCECDGN"
      },
      "outputs": [],
      "source": [
        "#Encode columns into numeric\n",
        "from sklearn.preprocessing import LabelEncoder\n",
        "for column in df.columns:\n",
        "    le = LabelEncoder()\n",
        "    df[column] = le.fit_transform(df[column])"
      ]
    },
    {
      "cell_type": "markdown",
      "metadata": {
        "id": "-EDM9_RhC1Nf"
      },
      "source": [
        "### **1. Decision Tree Classifier**"
      ]
    },
    {
      "cell_type": "code",
      "execution_count": null,
      "metadata": {
        "colab": {
          "base_uri": "https://localhost:8080/"
        },
        "id": "ergcDpfYCNih",
        "outputId": "46891b60-31c3-4cec-e542-ab7b1e27d6f9"
      },
      "outputs": [
        {
          "name": "stdout",
          "output_type": "stream",
          "text": [
            "Accuracy of the model: 76.96476964769647\n"
          ]
        }
      ],
      "source": [
        "from sklearn.tree import DecisionTreeClassifier\n",
        "from sklearn.model_selection import train_test_split\n",
        "from sklearn import metrics\n",
        "\n",
        "feature_col_names = [\"Gender\", \"MMSE\", \"Age\", \"CDR\", \"Memory\"]\n",
        "predicted_class_names = ['Result']\n",
        "\n",
        "X = df[feature_col_names].values\n",
        "y = df[predicted_class_names].values\n",
        "\n",
        "X_train, X_test, y_train, y_test = train_test_split(X, y, test_size = 0.30, random_state = 42)\n",
        "\n",
        "clf_dtc = DecisionTreeClassifier(criterion = 'entropy', max_depth = 5, random_state= 42)\n",
        "clf_dtc.fit(X_train, y_train)\n",
        "\n",
        "y_pred = clf_dtc.predict(X_test)\n",
        "print(\"Accuracy of the model:\", metrics.accuracy_score(y_test, y_pred)*100)"
      ]
    },
    {
      "cell_type": "markdown",
      "metadata": {
        "id": "dwDoKDBjCjKt"
      },
      "source": [
        "###**2. Random Forest Classifier**\n",
        "\n"
      ]
    },
    {
      "cell_type": "code",
      "execution_count": null,
      "metadata": {
        "colab": {
          "base_uri": "https://localhost:8080/"
        },
        "id": "Ojr8v90UCNWm",
        "outputId": "e48c862c-3c0e-449d-f49f-6aa0ab272d68"
      },
      "outputs": [
        {
          "name": "stdout",
          "output_type": "stream",
          "text": [
            "Accuracy of the model: 75.33875338753387\n"
          ]
        }
      ],
      "source": [
        "from sklearn.ensemble import RandomForestClassifier\n",
        "from sklearn.model_selection import train_test_split\n",
        "from sklearn import metrics\n",
        "\n",
        "feature_col_names = [\"Gender\", \"MMSE\", \"Age\", \"CDR\", \"Memory\"]\n",
        "predicted_class_names = ['Result']\n",
        "\n",
        "X = df[feature_col_names].values\n",
        "y = df[predicted_class_names].values\n",
        "\n",
        "X_train, X_test, y_train, y_test = train_test_split(X, y, test_size = 0.30, random_state = 42)\n",
        "\n",
        "clf_dtc = RandomForestClassifier( n_estimators = 100, criterion = 'entropy', random_state= 42)\n",
        "clf_dtc.fit(X_train, y_train.ravel())\n",
        "\n",
        "y_pred = clf_dtc.predict(X_test)\n",
        "print(\"Accuracy of the model:\", metrics.accuracy_score(y_test, y_pred)*100)"
      ]
    },
    {
      "cell_type": "markdown",
      "metadata": {
        "id": "GNyd-3sV_Knn"
      },
      "source": [
        "###**3. Gradient Boosting Classifier**"
      ]
    },
    {
      "cell_type": "code",
      "execution_count": null,
      "metadata": {
        "colab": {
          "base_uri": "https://localhost:8080/"
        },
        "id": "J5x6Yt2FDB-z",
        "outputId": "087e163a-f87e-4e98-90f7-4de8afa7bfc3"
      },
      "outputs": [
        {
          "name": "stdout",
          "output_type": "stream",
          "text": [
            "Accuracy of the model: 80.21680216802169\n"
          ]
        }
      ],
      "source": [
        "from sklearn.ensemble import GradientBoostingClassifier\n",
        "from sklearn.model_selection import train_test_split\n",
        "from sklearn import metrics\n",
        "\n",
        "feature_col_names = [\"Gender\", \"MMSE\", \"Age\", \"CDR\", \"Memory\"]\n",
        "predicted_class_names = ['Result']\n",
        "\n",
        "X = df[feature_col_names].values\n",
        "y = df[predicted_class_names].values\n",
        "\n",
        "X_train, X_test, y_train, y_test = train_test_split(X, y, test_size = 0.30, random_state = 42)\n",
        "\n",
        "gradientBooster = GradientBoostingClassifier(n_estimators = 3, max_depth = 2, learning_rate = 1.0)\n",
        "\n",
        "model = gradientBooster.fit(X_train, y_train.ravel())\n",
        "y_pred = model.predict(X_test)\n",
        "print(\"Accuracy of the model:\", metrics.accuracy_score(y_pred, y_test)*100)"
      ]
    },
    {
      "cell_type": "markdown",
      "metadata": {
        "id": "V7anB2WF_RBx"
      },
      "source": [
        "###**4. SVM (Support Vector Machine)**"
      ]
    },
    {
      "cell_type": "code",
      "execution_count": null,
      "metadata": {
        "colab": {
          "base_uri": "https://localhost:8080/"
        },
        "id": "aaktKRjGhKI0",
        "outputId": "c773e56b-a8d0-4b49-c40d-936c91a0c689"
      },
      "outputs": [
        {
          "name": "stdout",
          "output_type": "stream",
          "text": [
            "Accuracy of the model: 79.94579945799458\n"
          ]
        }
      ],
      "source": [
        "from sklearn.svm import SVC\n",
        "from sklearn.model_selection import train_test_split\n",
        "from sklearn import metrics\n",
        "\n",
        "feature_col_names = [\"Gender\", \"MMSE\", \"Age\", \"CDR\", \"Memory\"]\n",
        "predicted_class_names = ['Result']\n",
        "\n",
        "X = df[feature_col_names].values\n",
        "y = df[predicted_class_names].values\n",
        "\n",
        "X_train, X_test, y_train, y_test = train_test_split(X, y, test_size = 0.30, random_state = 42)\n",
        "\n",
        "svm = SVC(kernel = 'linear', C = 0.1, random_state = 42)\n",
        "svm.fit(X_train, y_train.ravel())\n",
        "pred = svm.predict(X_test)\n",
        "print('Accuracy of the model:', metrics.accuracy_score(y_test, pred)*100)"
      ]
    },
    {
      "cell_type": "markdown",
      "metadata": {
        "id": "OjTpETnKDLzk"
      },
      "source": [
        "###**Heat Map**\n"
      ]
    },
    {
      "cell_type": "code",
      "execution_count": null,
      "metadata": {
        "id": "6FhfK3_MhumG"
      },
      "outputs": [],
      "source": [
        "def plot_correlation_map( df ):\n",
        "    corr = df.corr()\n",
        "    _ , ax = plt.subplots( figsize =( 12 , 10 ) )\n",
        "    cmap = sns.diverging_palette( 240 , 10 , as_cmap = True )\n",
        "    _ = sns.heatmap(corr,cmap = cmap,square=True, cbar_kws={ 'shrink' : .9 }, ax=ax, annot = True, annot_kws = { 'fontsize' : 12 })"
      ]
    },
    {
      "cell_type": "code",
      "execution_count": null,
      "metadata": {
        "colab": {
          "base_uri": "https://localhost:8080/",
          "height": 584
        },
        "id": "JPt7Zxu5hxOr",
        "outputId": "dbcdc56c-2614-4df8-f880-56e25950dfb1"
      },
      "outputs": [
        {
          "data": {
            "image/png": "[encoded data removed]",
            "text/plain": [
              "<Figure size 864x720 with 2 Axes>"
            ]
          },
          "metadata": {},
          "output_type": "display_data"
        }
      ],
      "source": [
        "plot_correlation_map(df)"
      ]
    },
    {
      "cell_type": "code",
      "execution_count": null,
      "metadata": {
        "colab": {
          "base_uri": "https://localhost:8080/",
          "height": 354
        },
        "id": "XFNXDr6mcNDY",
        "outputId": "5abb2dac-de44-4dc1-a39b-7e1594d1e0e2"
      },
      "outputs": [
        {
          "data": {
            "image/png": "[encoded data removed]",
            "text/plain": [
              "<Figure size 720x360 with 1 Axes>"
            ]
          },
          "metadata": {},
          "output_type": "display_data"
        }
      ],
      "source": [
        "plt.figure(figsize=(10,5))\n",
        "sns.violinplot(x='Gender', y='CDR', data=df)\n",
        "plt.title('Violin plots of CDR by Gender',fontsize=14)\n",
        "plt.xlabel('Gender',fontsize=13)\n",
        "plt.ylabel('CDR',fontsize=13)\n",
        "plt.show()"
      ]
    },
    {
      "cell_type": "code",
      "execution_count": null,
      "metadata": {
        "colab": {
          "base_uri": "https://localhost:8080/",
          "height": 354
        },
        "id": "VCjRYKm_cNGa",
        "outputId": "825afc50-2a37-4467-c568-dd3833951375"
      },
      "outputs": [
        {
          "data": {
            "image/png": "[encoded data removed]",
            "text/plain": [
              "<Figure size 720x360 with 1 Axes>"
            ]
          },
          "metadata": {},
          "output_type": "display_data"
        }
      ],
      "source": [
        "plt.figure(figsize=(10,5))\n",
        "sns.violinplot(x='CDR', y='Age', data=df)\n",
        "plt.title('Violin plot of Age by CDR',fontsize=14)\n",
        "plt.xlabel('CDR',fontsize=13)\n",
        "plt.ylabel('Age',fontsize=13)\n",
        "plt.show()"
      ]
    },
    {
      "cell_type": "markdown",
      "metadata": {
        "id": "VfcoaNy0G5Ne"
      },
      "source": [
        "###**Implementation of Ensemble Learning Techniques**"
      ]
    },
    {
      "cell_type": "markdown",
      "metadata": {
        "id": "XE_dnlzPD4Jq"
      },
      "source": [
        "> In this phase, we will look at some basic Ensemble Techniques namely:\n",
        "*   Max Voting\n",
        "*   Averaging\n"
      ]
    },
    {
      "cell_type": "markdown",
      "metadata": {
        "id": "W2vrKp-6EfYt"
      },
      "source": [
        "**1. Max Voting:** \n",
        "\n",
        "> The max voting method is generally used for classification problems. In this technique, multiple models are used to make predictions for each data point. The predictions by each model are considered as a ‘vote’. The predictions which we get from the majority of the models are used as the final prediction.\n",
        "\n",
        "**Voting Classifier**\n",
        "\n",
        "> A Voting Classifier is a machine learning model that trains on an ensemble of numerous models and predicts an output (class) based on their highest probability of chosen class as the output.\n",
        "\n",
        "\n",
        "**Voting Classifier supports two types of votings:-**\n",
        "\n",
        "\n",
        "**Hard Voting:** \n",
        "\n",
        "> In hard voting, the predicted output class is a class with the highest majority of votes i.e the class which had the highest probability of being predicted by each of the classifiers. Suppose three classifiers predicted the output *class(A, A, B)*, so here the majority predicted *A* as output. Hence *A* will be the final prediction.\n",
        "\n",
        "**Soft Voting:** \n",
        "\n",
        "> In soft voting, the output class is the prediction based on the average of probability given to that class. Suppose given some input to three models, the prediction probability for *class A = (0.30, 0.47, 0.53)* and *B = (0.20, 0.32, 0.40)*. So the average for class A is *0.4333* and B is *0.3067*, the winner is clearly class *A* because it had the highest probability averaged by each classifier."
      ]
    },
    {
      "cell_type": "code",
      "execution_count": null,
      "metadata": {
        "colab": {
          "base_uri": "https://localhost:8080/"
        },
        "id": "-_uvcRGbOmbj",
        "outputId": "f270b430-dba7-4710-eb00-5618ae00eb03"
      },
      "outputs": [
        {
          "name": "stdout",
          "output_type": "stream",
          "text": [
            "Accuracy of the model: 0.7696476964769647\n"
          ]
        }
      ],
      "source": [
        "from sklearn.ensemble import VotingClassifier\n",
        "from sklearn import tree\n",
        "from sklearn.svm import SVC\n",
        "from sklearn.tree import DecisionTreeClassifier\n",
        "from sklearn.ensemble import RandomForestClassifier\n",
        "from sklearn.ensemble import GradientBoostingClassifier\n",
        "from sklearn.model_selection import train_test_split\n",
        "\n",
        "feature_col_names = [\"Gender\", \"MMSE\", \"Age\", \"CDR\", \"Memory\"]\n",
        "predicted_class_names = ['Result']\n",
        "\n",
        "X = df[feature_col_names].values\n",
        "y = df[predicted_class_names].values\n",
        "\n",
        "model1 = RandomForestClassifier(random_state = 42)\n",
        "model2 = tree.DecisionTreeClassifier(random_state = 42)\n",
        "model3 = SVC()\n",
        "model4 = GradientBoostingClassifier(n_estimators=100, learning_rate=1.0, random_state=42)\n",
        "model = VotingClassifier(estimators=[('rf', model1), ('dt', model2), ('svc', model3), ('gbc', model4)], voting = 'hard')\n",
        "\n",
        "X_train, X_test, y_train, y_test = train_test_split(X, y, test_size = 0.30, random_state = 42)\n",
        "\n",
        "model.fit(X_train,y_train.ravel())\n",
        "accuracy = model.score(X_test,y_test.ravel())\n",
        "print(\"Accuracy of the model:\", accuracy)"
      ]
    },
    {
      "cell_type": "markdown",
      "metadata": {
        "id": "4oWzrQseWJe2"
      },
      "source": [
        "**2. Averaging**\n",
        "\n",
        "> Similar to the max voting technique, multiple predictions are made for each data point in averaging. In this method, we take an average of predictions from all the models and use it to make the final prediction."
      ]
    },
    {
      "cell_type": "code",
      "execution_count": null,
      "metadata": {
        "colab": {
          "base_uri": "https://localhost:8080/"
        },
        "id": "_EKklB7FWMbB",
        "outputId": "9ed8487e-acbe-4915-f0c7-aeb6d6662c9e"
      },
      "outputs": [
        {
          "name": "stderr",
          "output_type": "stream",
          "text": [
            "/usr/local/lib/python3.7/dist-packages/ipykernel_launcher.py:14: DataConversionWarning: A column-vector y was passed when a 1d array was expected. Please change the shape of y to (n_samples,), for example using ravel().\n",
            "  \n",
            "/usr/local/lib/python3.7/dist-packages/sklearn/utils/validation.py:993: DataConversionWarning: A column-vector y was passed when a 1d array was expected. Please change the shape of y to (n_samples, ), for example using ravel().\n",
            "  y = column_or_1d(y, warn=True)\n",
            "/usr/local/lib/python3.7/dist-packages/sklearn/ensemble/_gb.py:494: DataConversionWarning: A column-vector y was passed when a 1d array was expected. Please change the shape of y to (n_samples, ), for example using ravel().\n",
            "  y = column_or_1d(y, warn=True)\n"
          ]
        },
        {
          "name": "stdout",
          "output_type": "stream",
          "text": [
            "Accuracy of the model: 0.744579945799458\n"
          ]
        }
      ],
      "source": [
        "model1= RandomForestClassifier()\n",
        "model2 = tree.DecisionTreeClassifier()\n",
        "model3 = SVC()\n",
        "model4 = GradientBoostingClassifier(n_estimators=100, learning_rate=1.0, random_state=42)\n",
        "\n",
        "feature_col_names = [\"Gender\", \"MMSE\", \"Age\", \"CDR\", \"Memory\"]\n",
        "predicted_class_names = ['Result']\n",
        "\n",
        "X = df[feature_col_names].values\n",
        "y = df[predicted_class_names].values\n",
        "\n",
        "X_train, X_test, y_train, y_test = train_test_split(X, y, test_size = 0.30, random_state = 42)\n",
        "\n",
        "model1.fit(X_train, y_train)\n",
        "model2.fit(X_train, y_train)\n",
        "model3.fit(X_train, y_train)\n",
        "model4.fit(X_train, y_train)\n",
        "\n",
        "pred1 = model1.score(X_test, y_test.ravel())\n",
        "pred2 = model2.score(X_test, y_test.ravel())\n",
        "pred3 = model3.score(X_test, y_test.ravel())\n",
        "pred4 = model4.score(X_test, y_test.ravel())\n",
        "\n",
        "finalpred = (pred1 + pred2 + pred3 + pred4) / 4.0\n",
        "\n",
        "print(\"Accuracy of the model:\", finalpred)"
      ]
    },
    {
      "cell_type": "markdown",
      "metadata": {
        "id": "8Q-tm1Zv-lK5"
      },
      "source": [
        "**3. Weighted Averaging**\n",
        "\n",
        "> This is an extension of the averaging method. All models are assigned different weights defining the importance of each model for prediction."
      ]
    },
    {
      "cell_type": "code",
      "execution_count": null,
      "metadata": {
        "colab": {
          "base_uri": "https://localhost:8080/"
        },
        "id": "g5aON2bA-n6f",
        "outputId": "a468e83c-4243-4097-e6c6-87e21ec7fb8e"
      },
      "outputs": [
        {
          "name": "stderr",
          "output_type": "stream",
          "text": [
            "/usr/local/lib/python3.7/dist-packages/ipykernel_launcher.py:14: DataConversionWarning: A column-vector y was passed when a 1d array was expected. Please change the shape of y to (n_samples,), for example using ravel().\n",
            "  \n",
            "/usr/local/lib/python3.7/dist-packages/sklearn/utils/validation.py:993: DataConversionWarning: A column-vector y was passed when a 1d array was expected. Please change the shape of y to (n_samples, ), for example using ravel().\n",
            "  y = column_or_1d(y, warn=True)\n",
            "/usr/local/lib/python3.7/dist-packages/sklearn/ensemble/_gb.py:494: DataConversionWarning: A column-vector y was passed when a 1d array was expected. Please change the shape of y to (n_samples, ), for example using ravel().\n",
            "  y = column_or_1d(y, warn=True)\n"
          ]
        },
        {
          "name": "stdout",
          "output_type": "stream",
          "text": [
            "Accuracy of the model: 0.7544715447154472\n"
          ]
        }
      ],
      "source": [
        "model1 = RandomForestClassifier()\n",
        "model2 = tree.DecisionTreeClassifier()\n",
        "model3 = SVC()\n",
        "model4 = GradientBoostingClassifier(n_estimators=100, learning_rate=1.0, random_state=42)\n",
        "\n",
        "feature_col_names = [\"Gender\", \"MMSE\", \"Age\", \"CDR\", \"Memory\"]\n",
        "predicted_class_names = ['Result']\n",
        "\n",
        "X = df[feature_col_names].values\n",
        "y = df[predicted_class_names].values\n",
        "\n",
        "X_train, X_test, y_train, y_test = train_test_split(X, y, test_size = 0.30, random_state = 42)\n",
        "\n",
        "model1.fit(X_train, y_train)\n",
        "model2.fit(X_train, y_train)\n",
        "model3.fit(X_train, y_train)\n",
        "model4.fit(X_train, y_train)\n",
        "\n",
        "pred1 = model1.score(X_test, y_test.ravel())\n",
        "pred2 = model2.score(X_test, y_test.ravel())\n",
        "pred3 = model3.score(X_test, y_test.ravel())\n",
        "pred4 = model4.score(X_test, y_test.ravel())\n",
        "\n",
        "finalpred = (pred1*1 + pred2*3 + pred3*2 + pred4*4)/(1+2+3+4)\n",
        "print(\"Accuracy of the model:\", finalpred)"
      ]
    },
    {
      "cell_type": "markdown",
      "metadata": {
        "id": "8GwZqJng3Z99"
      },
      "source": [
        "###**Advanced Ensemble Learning**\n",
        "\n",
        "**1. Bagging Meta- Estimator:**\n",
        "\n",
        "> Bagging meta-estimator is an ensembling algorithm that can be used for both classification (BaggingClassifier) and regression (BaggingRegressor) problems. It follows the typical bagging technique to make predictions. \n",
        "Following are the steps for the bagging meta-estimator algorithm:\n",
        "\n",
        "> 1. Random subsets are created from the original dataset (Bootstrapping).\n",
        "> 2. The subset of the dataset includes all features. \n",
        "> 3. A user-specified base estimator is fitted on each of these smaller sets. \n",
        "> 4. Predictions from each model are combined to get the final result.\n",
        "\n",
        "**Parameters used in this algorithm -**\n",
        "\n",
        "**base_estimator:**\n",
        "\n",
        "It defines the base estimator to fit on random subsets of the dataset.\n",
        "When nothing is specified, the base estimator is a decision tree.\n",
        "\n",
        "**n_estimators:**\n",
        "\n",
        "It is the number of base estimators to be created.\n",
        "The number of estimators should be carefully tuned as a large number would take a very long time to run, while a very small number might not provide the best results.\n",
        "\n",
        "**max_samples:**\n",
        "\n",
        "This parameter controls the size of the subsets.\n",
        "It is the maximum number of samples to train each base estimator.\n",
        "max_features:\n",
        "Controls the number of features to draw from the whole dataset.\n",
        "It defines the maximum number of features required to train each base estimator.\n",
        "\n",
        "**n_jobs:**\n",
        "\n",
        "The number of jobs to run in parallel.\n",
        "Set this value equal to the cores in your system.\n",
        "If -1, the number of jobs is set to the number of cores.\n",
        "\n",
        "**random_state:**\n",
        "\n",
        "It specifies the method of random split. When random state value is same for two models, the random selection is same for both models.\n",
        "This parameter is useful when you want to compare different models."
      ]
    },
    {
      "cell_type": "code",
      "execution_count": null,
      "metadata": {
        "colab": {
          "background_save": true,
          "base_uri": "https://localhost:8080/"
        },
        "id": "HObLZWDYAAq5",
        "outputId": "d6be10d9-e7c3-4906-83f2-1627a2b4abf1"
      },
      "outputs": [
        {
          "name": "stdout",
          "output_type": "stream",
          "text": [
            "Accuracy of the model: 74.25474254742548\n"
          ]
        }
      ],
      "source": [
        "from sklearn.ensemble import BaggingClassifier\n",
        "from sklearn import tree\n",
        "from sklearn.model_selection import train_test_split\n",
        "from sklearn import metrics\n",
        "\n",
        "feature_col_names = [\"Gender\", \"MMSE\", \"Age\", \"CDR\", \"Memory\"]\n",
        "predicted_class_names = ['Result']\n",
        "\n",
        "X = df[feature_col_names].values\n",
        "y = df[predicted_class_names].values\n",
        "\n",
        "X_train, X_test, y_train, y_test = train_test_split(X, y, test_size = 0.30, random_state = 42)\n",
        "model = BaggingClassifier(tree.DecisionTreeClassifier(random_state = 42))\n",
        "model.fit(X_train,y_train.ravel())\n",
        "\n",
        "pred = model.predict(X_test)\n",
        "print('Accuracy of the model:', metrics.accuracy_score(y_test, pred)*100)"
      ]
    }
  ],
  "metadata": {
    "colab": {
      "collapsed_sections": [],
      "name": "B. Tech Project.ipynb",
      "provenance": []
    },
    "kernelspec": {
      "display_name": "Python 3",
      "name": "python3"
    },
    "language_info": {
      "name": "python"
    }
  },
  "nbformat": 4,
  "nbformat_minor": 0
}